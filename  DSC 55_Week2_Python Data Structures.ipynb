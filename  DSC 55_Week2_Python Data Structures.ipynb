{
 "cells": [
  {
   "cell_type": "markdown",
   "id": "edabbc85",
   "metadata": {},
   "source": [
    "## Some Must Known String Functions\n",
    "<hr/>"
   ]
  },
  {
   "cell_type": "code",
   "execution_count": 1,
   "id": "5eb7376d",
   "metadata": {},
   "outputs": [],
   "source": [
    "msg=\"crocodile\""
   ]
  },
  {
   "cell_type": "code",
   "execution_count": 3,
   "id": "37d49404",
   "metadata": {},
   "outputs": [
    {
     "data": {
      "text/plain": [
       "'CROCODILE'"
      ]
     },
     "execution_count": 3,
     "metadata": {},
     "output_type": "execute_result"
    }
   ],
   "source": [
    "msg.upper()"
   ]
  },
  {
   "cell_type": "code",
   "execution_count": 4,
   "id": "4201da2e",
   "metadata": {},
   "outputs": [
    {
     "data": {
      "text/plain": [
       "'crocodile'"
      ]
     },
     "execution_count": 4,
     "metadata": {},
     "output_type": "execute_result"
    }
   ],
   "source": [
    "msg.lower()"
   ]
  },
  {
   "cell_type": "code",
   "execution_count": 6,
   "id": "a4b6d797",
   "metadata": {},
   "outputs": [
    {
     "data": {
      "text/plain": [
       "1"
      ]
     },
     "execution_count": 6,
     "metadata": {},
     "output_type": "execute_result"
    }
   ],
   "source": [
    "msg.index('r') # this takes character as input and tells u the index position of that character"
   ]
  },
  {
   "cell_type": "code",
   "execution_count": 7,
   "id": "25b0506f",
   "metadata": {},
   "outputs": [
    {
     "data": {
      "text/plain": [
       "True"
      ]
     },
     "execution_count": 7,
     "metadata": {},
     "output_type": "execute_result"
    }
   ],
   "source": [
    "msg.startswith(\"c\")"
   ]
  },
  {
   "cell_type": "code",
   "execution_count": 8,
   "id": "0787805c",
   "metadata": {},
   "outputs": [
    {
     "data": {
      "text/plain": [
       "False"
      ]
     },
     "execution_count": 8,
     "metadata": {},
     "output_type": "execute_result"
    }
   ],
   "source": [
    "msg.startswith(\"p\")"
   ]
  },
  {
   "cell_type": "code",
   "execution_count": null,
   "id": "67cb0e93",
   "metadata": {},
   "outputs": [],
   "source": []
  },
  {
   "cell_type": "code",
   "execution_count": 9,
   "id": "aae566c7",
   "metadata": {},
   "outputs": [],
   "source": [
    "lottery=\"645\""
   ]
  },
  {
   "cell_type": "code",
   "execution_count": 11,
   "id": "5fa455a0",
   "metadata": {},
   "outputs": [
    {
     "data": {
      "text/plain": [
       "True"
      ]
     },
     "execution_count": 11,
     "metadata": {},
     "output_type": "execute_result"
    }
   ],
   "source": [
    "lottery.isdigit() # isdigit() is used to determine if the string variable contains a Number or not."
   ]
  },
  {
   "cell_type": "code",
   "execution_count": null,
   "id": "21cb9883",
   "metadata": {},
   "outputs": [],
   "source": []
  },
  {
   "cell_type": "code",
   "execution_count": 13,
   "id": "e3c59a1b",
   "metadata": {},
   "outputs": [
    {
     "data": {
      "text/plain": [
       "True"
      ]
     },
     "execution_count": 13,
     "metadata": {},
     "output_type": "execute_result"
    }
   ],
   "source": [
    "lottery=\"645\"\n",
    "lottery.isdigit()"
   ]
  },
  {
   "attachments": {
    "image.png": {
     "image/png": "[encoded data removed]"
    }
   },
   "cell_type": "markdown",
   "id": "c7dfa593",
   "metadata": {},
   "source": [
    "![image.png](attachment:image.png)"
   ]
  },
  {
   "cell_type": "code",
   "execution_count": null,
   "id": "3415b9af",
   "metadata": {},
   "outputs": [],
   "source": [
    "isdigit()'s True Reponse confirms programmer that the string variable is convertible to INT.\n",
    "if it is False, the variables value isn't convertible to Integer."
   ]
  },
  {
   "cell_type": "code",
   "execution_count": null,
   "id": "4fd22fc9",
   "metadata": {},
   "outputs": [],
   "source": []
  },
  {
   "cell_type": "code",
   "execution_count": null,
   "id": "36e48568",
   "metadata": {},
   "outputs": [],
   "source": []
  },
  {
   "cell_type": "code",
   "execution_count": null,
   "id": "f173d613",
   "metadata": {},
   "outputs": [],
   "source": [
    "# please execute your code always after typing it.\n",
    "car=\"jeep\""
   ]
  },
  {
   "cell_type": "code",
   "execution_count": null,
   "id": "84c5f67b",
   "metadata": {},
   "outputs": [],
   "source": []
  },
  {
   "cell_type": "code",
   "execution_count": 20,
   "id": "171800a5",
   "metadata": {},
   "outputs": [
    {
     "ename": "NameError",
     "evalue": "name 'car' is not defined",
     "output_type": "error",
     "traceback": [
      "\u001b[1;31m---------------------------------------------------------------------------\u001b[0m",
      "\u001b[1;31mNameError\u001b[0m                                 Traceback (most recent call last)",
      "Cell \u001b[1;32mIn[20], line 1\u001b[0m\n\u001b[1;32m----> 1\u001b[0m \u001b[38;5;28mprint\u001b[39m(\u001b[38;5;124m\"\u001b[39m\u001b[38;5;124mmy fav car is \u001b[39m\u001b[38;5;124m\"\u001b[39m,\u001b[43mcar\u001b[49m)\n",
      "\u001b[1;31mNameError\u001b[0m: name 'car' is not defined"
     ]
    }
   ],
   "source": [
    "print(\"my fav car is \",car)"
   ]
  },
  {
   "cell_type": "code",
   "execution_count": null,
   "id": "765ef984",
   "metadata": {},
   "outputs": [],
   "source": []
  },
  {
   "cell_type": "code",
   "execution_count": null,
   "id": "8507ceb2",
   "metadata": {},
   "outputs": [],
   "source": []
  },
  {
   "cell_type": "code",
   "execution_count": null,
   "id": "5c12d7c6",
   "metadata": {},
   "outputs": [],
   "source": []
  },
  {
   "cell_type": "markdown",
   "id": "a2ae5cda",
   "metadata": {},
   "source": [
    "## ONE Logic/Function that can Help you Solve 1000 Problems\n",
    "<hr/>"
   ]
  },
  {
   "cell_type": "markdown",
   "id": "8c7c4586",
   "metadata": {},
   "source": [
    "## Idea here is to Convert String to LIST\n",
    "<hr/>"
   ]
  },
  {
   "cell_type": "code",
   "execution_count": 21,
   "id": "f560daee",
   "metadata": {},
   "outputs": [],
   "source": [
    "msg=\"One Day i'll Make the Onions CRY\""
   ]
  },
  {
   "cell_type": "markdown",
   "id": "b679af88",
   "metadata": {},
   "source": [
    "Objective: we want to separate each Word."
   ]
  },
  {
   "cell_type": "code",
   "execution_count": 22,
   "id": "a91055d1",
   "metadata": {},
   "outputs": [
    {
     "data": {
      "text/plain": [
       "['One', 'Day', \"i'll\", 'Make', 'the', 'Onions', 'CRY']"
      ]
     },
     "execution_count": 22,
     "metadata": {},
     "output_type": "execute_result"
    }
   ],
   "source": [
    "msg.split()"
   ]
  },
  {
   "cell_type": "markdown",
   "id": "54dc8dcf",
   "metadata": {},
   "source": [
    "## # What is split():\n",
    "<hr/>\n",
    "<pre>\n",
    "        1. split is a string function\n",
    "        2. the purpose of split is to slice string or split string \n",
    "        3. Split scans the string and looks for space by Default.\n",
    "        whereever it find space in string it slices the string from there.\n",
    "        \n",
    "        4. Split always returns LIST as response or output."
   ]
  },
  {
   "cell_type": "code",
   "execution_count": null,
   "id": "e82703f8",
   "metadata": {},
   "outputs": [],
   "source": []
  },
  {
   "cell_type": "code",
   "execution_count": 24,
   "id": "8a3395f2",
   "metadata": {},
   "outputs": [],
   "source": [
    "heroes=\"spiderman,thanos,antman,ironman,batman\""
   ]
  },
  {
   "cell_type": "code",
   "execution_count": 25,
   "id": "62d01283",
   "metadata": {},
   "outputs": [],
   "source": [
    "# objective: to separate names of heroes"
   ]
  },
  {
   "cell_type": "code",
   "execution_count": 26,
   "id": "f70a8bf6",
   "metadata": {},
   "outputs": [],
   "source": [
    "avgList = heroes.split(',')"
   ]
  },
  {
   "cell_type": "code",
   "execution_count": 27,
   "id": "c68f6801",
   "metadata": {},
   "outputs": [
    {
     "data": {
      "text/plain": [
       "['spiderman', 'thanos', 'antman', 'ironman', 'batman']"
      ]
     },
     "execution_count": 27,
     "metadata": {},
     "output_type": "execute_result"
    }
   ],
   "source": [
    "avgList"
   ]
  },
  {
   "cell_type": "code",
   "execution_count": 28,
   "id": "c3b451f0",
   "metadata": {},
   "outputs": [],
   "source": [
    "# woha!🤯 thanos is not hero , let me use my data structure skills\n",
    "del avgList[1]"
   ]
  },
  {
   "cell_type": "code",
   "execution_count": 29,
   "id": "df619708",
   "metadata": {},
   "outputs": [
    {
     "data": {
      "text/plain": [
       "['spiderman', 'antman', 'ironman', 'batman']"
      ]
     },
     "execution_count": 29,
     "metadata": {},
     "output_type": "execute_result"
    }
   ],
   "source": [
    "avgList"
   ]
  },
  {
   "cell_type": "code",
   "execution_count": 30,
   "id": "48b56371",
   "metadata": {},
   "outputs": [],
   "source": [
    "# let us ask avengeres to Assemble i.e sort\n",
    "avgList.sort()"
   ]
  },
  {
   "cell_type": "code",
   "execution_count": 31,
   "id": "8220acc8",
   "metadata": {},
   "outputs": [
    {
     "data": {
      "text/plain": [
       "['antman', 'batman', 'ironman', 'spiderman']"
      ]
     },
     "execution_count": 31,
     "metadata": {},
     "output_type": "execute_result"
    }
   ],
   "source": [
    "avgList"
   ]
  },
  {
   "attachments": {
    "image.png": {
     "image/png": "[encoded data removed]"
    }
   },
   "cell_type": "markdown",
   "id": "90f3d5a7",
   "metadata": {},
   "source": [
    "![image.png](attachment:image.png)"
   ]
  },
  {
   "cell_type": "code",
   "execution_count": 33,
   "id": "821e1707",
   "metadata": {},
   "outputs": [
    {
     "data": {
      "text/plain": [
       "'antman🍉batman🍉ironman🍉spiderman'"
      ]
     },
     "execution_count": 33,
     "metadata": {},
     "output_type": "execute_result"
    }
   ],
   "source": [
    "# Converting List to STRING  using JOIN\n",
    "'🍉'.join(avgList)"
   ]
  },
  {
   "cell_type": "code",
   "execution_count": null,
   "id": "71627662",
   "metadata": {},
   "outputs": [],
   "source": []
  }
 ],
 "metadata": {
  "kernelspec": {
   "display_name": "Python 3 (ipykernel)",
   "language": "python",
   "name": "python3"
  },
  "language_info": {
   "codemirror_mode": {
    "name": "ipython",
    "version": 3
   },
   "file_extension": ".py",
   "mimetype": "text/x-python",
   "name": "python",
   "nbconvert_exporter": "python",
   "pygments_lexer": "ipython3",
   "version": "3.10.9"
  }
 },
 "nbformat": 4,
 "nbformat_minor": 5
}
